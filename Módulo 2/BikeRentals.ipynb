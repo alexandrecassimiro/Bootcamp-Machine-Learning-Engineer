{
 "cells": [
  {
   "cell_type": "markdown",
   "id": "b90a9585",
   "metadata": {},
   "source": [
    "# Módulo 2: Modelos Preditivos e Séries Temporais"
   ]
  },
  {
   "cell_type": "markdown",
   "id": "d918a334",
   "metadata": {},
   "source": [
    "por Otávio Muraca"
   ]
  },
  {
   "cell_type": "markdown",
   "id": "a58054b9",
   "metadata": {},
   "source": [
    "## Objetivo do Projeto"
   ]
  },
  {
   "cell_type": "markdown",
   "id": "e245dcb2",
   "metadata": {},
   "source": [
    "O uso de bicicletas como um meio de transporte ganhou muita força nos últimos anos, seja por questões ambientais, de saúde ou até mesmo infraestrutura de trânsito. Para incentivar o uso, cidades em todo o mundo têm implementado programas de compartilhamento de bicicleta. \n",
    "\n",
    "Nesses sistemas, as bicicletas são retiradas e devolvidas em quiosques automatizados espalhados em diversos pontos da cidade. \n",
    "\n",
    "As plataformas de compartilhamento de bicicletas costumam coletar diversos tipos de dados, entre eles: duração da viagem, localização inicial e final do percurso, entre outros. \n",
    "\n",
    "Esses dados coletados pela plataforma, em conjunto com informações sobre o clima, trânsito e relevo, por exemplo, tornam possível uma análise mais robusta de compartilhamento de bicicletas.\n",
    "\n"
   ]
  },
  {
   "cell_type": "markdown",
   "id": "e9ad5be1",
   "metadata": {},
   "source": [
    "## Importações"
   ]
  },
  {
   "cell_type": "code",
   "execution_count": 2,
   "id": "8bd71346",
   "metadata": {},
   "outputs": [],
   "source": [
    "#Importações\n",
    "import pandas as pd\n",
    "import numpy as np"
   ]
  },
  {
   "cell_type": "code",
   "execution_count": 3,
   "id": "8efbda37",
   "metadata": {},
   "outputs": [],
   "source": [
    "#importando dataset\n",
    "url = \"https://pycourse.s3.amazonaws.com/bike-sharing.csv\"\n",
    "dataset = pd.read_csv(url)"
   ]
  },
  {
   "cell_type": "markdown",
   "id": "e35b5e6c",
   "metadata": {},
   "source": [
    "## Análise Inicial"
   ]
  },
  {
   "cell_type": "code",
   "execution_count": 4,
   "id": "54d84c35",
   "metadata": {},
   "outputs": [
    {
     "data": {
      "text/html": [
       "<div>\n",
       "<style scoped>\n",
       "    .dataframe tbody tr th:only-of-type {\n",
       "        vertical-align: middle;\n",
       "    }\n",
       "\n",
       "    .dataframe tbody tr th {\n",
       "        vertical-align: top;\n",
       "    }\n",
       "\n",
       "    .dataframe thead th {\n",
       "        text-align: right;\n",
       "    }\n",
       "</style>\n",
       "<table border=\"1\" class=\"dataframe\">\n",
       "  <thead>\n",
       "    <tr style=\"text-align: right;\">\n",
       "      <th></th>\n",
       "      <th>datetime</th>\n",
       "      <th>rec_id</th>\n",
       "      <th>season</th>\n",
       "      <th>year</th>\n",
       "      <th>month</th>\n",
       "      <th>hour</th>\n",
       "      <th>is_holiday</th>\n",
       "      <th>weekday</th>\n",
       "      <th>is_workingday</th>\n",
       "      <th>weather_condition</th>\n",
       "      <th>temp</th>\n",
       "      <th>atemp</th>\n",
       "      <th>humidity</th>\n",
       "      <th>windspeed</th>\n",
       "      <th>casual</th>\n",
       "      <th>registered</th>\n",
       "      <th>total_count</th>\n",
       "    </tr>\n",
       "  </thead>\n",
       "  <tbody>\n",
       "    <tr>\n",
       "      <th>0</th>\n",
       "      <td>2011-01-01</td>\n",
       "      <td>1</td>\n",
       "      <td>1</td>\n",
       "      <td>0</td>\n",
       "      <td>1</td>\n",
       "      <td>0</td>\n",
       "      <td>0</td>\n",
       "      <td>6</td>\n",
       "      <td>0</td>\n",
       "      <td>1</td>\n",
       "      <td>0.24</td>\n",
       "      <td>0.2879</td>\n",
       "      <td>0.81</td>\n",
       "      <td>0.0</td>\n",
       "      <td>3</td>\n",
       "      <td>13</td>\n",
       "      <td>16</td>\n",
       "    </tr>\n",
       "    <tr>\n",
       "      <th>1</th>\n",
       "      <td>2011-01-01</td>\n",
       "      <td>2</td>\n",
       "      <td>1</td>\n",
       "      <td>0</td>\n",
       "      <td>1</td>\n",
       "      <td>1</td>\n",
       "      <td>0</td>\n",
       "      <td>6</td>\n",
       "      <td>0</td>\n",
       "      <td>1</td>\n",
       "      <td>0.22</td>\n",
       "      <td>0.2727</td>\n",
       "      <td>0.80</td>\n",
       "      <td>0.0</td>\n",
       "      <td>8</td>\n",
       "      <td>32</td>\n",
       "      <td>40</td>\n",
       "    </tr>\n",
       "    <tr>\n",
       "      <th>2</th>\n",
       "      <td>2011-01-01</td>\n",
       "      <td>3</td>\n",
       "      <td>1</td>\n",
       "      <td>0</td>\n",
       "      <td>1</td>\n",
       "      <td>2</td>\n",
       "      <td>0</td>\n",
       "      <td>6</td>\n",
       "      <td>0</td>\n",
       "      <td>1</td>\n",
       "      <td>0.22</td>\n",
       "      <td>0.2727</td>\n",
       "      <td>0.80</td>\n",
       "      <td>0.0</td>\n",
       "      <td>5</td>\n",
       "      <td>27</td>\n",
       "      <td>32</td>\n",
       "    </tr>\n",
       "    <tr>\n",
       "      <th>3</th>\n",
       "      <td>2011-01-01</td>\n",
       "      <td>4</td>\n",
       "      <td>1</td>\n",
       "      <td>0</td>\n",
       "      <td>1</td>\n",
       "      <td>3</td>\n",
       "      <td>0</td>\n",
       "      <td>6</td>\n",
       "      <td>0</td>\n",
       "      <td>1</td>\n",
       "      <td>0.24</td>\n",
       "      <td>0.2879</td>\n",
       "      <td>0.75</td>\n",
       "      <td>0.0</td>\n",
       "      <td>3</td>\n",
       "      <td>10</td>\n",
       "      <td>13</td>\n",
       "    </tr>\n",
       "    <tr>\n",
       "      <th>4</th>\n",
       "      <td>2011-01-01</td>\n",
       "      <td>5</td>\n",
       "      <td>1</td>\n",
       "      <td>0</td>\n",
       "      <td>1</td>\n",
       "      <td>4</td>\n",
       "      <td>0</td>\n",
       "      <td>6</td>\n",
       "      <td>0</td>\n",
       "      <td>1</td>\n",
       "      <td>0.24</td>\n",
       "      <td>0.2879</td>\n",
       "      <td>0.75</td>\n",
       "      <td>0.0</td>\n",
       "      <td>0</td>\n",
       "      <td>1</td>\n",
       "      <td>1</td>\n",
       "    </tr>\n",
       "  </tbody>\n",
       "</table>\n",
       "</div>"
      ],
      "text/plain": [
       "     datetime  rec_id  season  year  month  hour  is_holiday  weekday  \\\n",
       "0  2011-01-01       1       1     0      1     0           0        6   \n",
       "1  2011-01-01       2       1     0      1     1           0        6   \n",
       "2  2011-01-01       3       1     0      1     2           0        6   \n",
       "3  2011-01-01       4       1     0      1     3           0        6   \n",
       "4  2011-01-01       5       1     0      1     4           0        6   \n",
       "\n",
       "   is_workingday  weather_condition  temp   atemp  humidity  windspeed  \\\n",
       "0              0                  1  0.24  0.2879      0.81        0.0   \n",
       "1              0                  1  0.22  0.2727      0.80        0.0   \n",
       "2              0                  1  0.22  0.2727      0.80        0.0   \n",
       "3              0                  1  0.24  0.2879      0.75        0.0   \n",
       "4              0                  1  0.24  0.2879      0.75        0.0   \n",
       "\n",
       "   casual  registered  total_count  \n",
       "0       3          13           16  \n",
       "1       8          32           40  \n",
       "2       5          27           32  \n",
       "3       3          10           13  \n",
       "4       0           1            1  "
      ]
     },
     "execution_count": 4,
     "metadata": {},
     "output_type": "execute_result"
    }
   ],
   "source": [
    "dataset.head(5)"
   ]
  },
  {
   "cell_type": "code",
   "execution_count": 5,
   "id": "03526056",
   "metadata": {},
   "outputs": [
    {
     "name": "stdout",
     "output_type": "stream",
     "text": [
      "<class 'pandas.core.frame.DataFrame'>\n",
      "RangeIndex: 17379 entries, 0 to 17378\n",
      "Data columns (total 17 columns):\n",
      " #   Column             Non-Null Count  Dtype  \n",
      "---  ------             --------------  -----  \n",
      " 0   datetime           17379 non-null  object \n",
      " 1   rec_id             17379 non-null  int64  \n",
      " 2   season             17379 non-null  int64  \n",
      " 3   year               17379 non-null  int64  \n",
      " 4   month              17379 non-null  int64  \n",
      " 5   hour               17379 non-null  int64  \n",
      " 6   is_holiday         17379 non-null  int64  \n",
      " 7   weekday            17379 non-null  int64  \n",
      " 8   is_workingday      17379 non-null  int64  \n",
      " 9   weather_condition  17379 non-null  int64  \n",
      " 10  temp               17379 non-null  float64\n",
      " 11  atemp              17379 non-null  float64\n",
      " 12  humidity           17379 non-null  float64\n",
      " 13  windspeed          17379 non-null  float64\n",
      " 14  casual             17379 non-null  int64  \n",
      " 15  registered         17379 non-null  int64  \n",
      " 16  total_count        17379 non-null  int64  \n",
      "dtypes: float64(4), int64(12), object(1)\n",
      "memory usage: 2.3+ MB\n"
     ]
    }
   ],
   "source": [
    "dataset.info()"
   ]
  },
  {
   "cell_type": "code",
   "execution_count": 10,
   "id": "65c73ac9",
   "metadata": {},
   "outputs": [],
   "source": [
    "# Convertendo a coluna datetime em formato datetime.\n",
    "dataset['datetime'] = pd.to_datetime(dataset['datetime'])"
   ]
  },
  {
   "cell_type": "markdown",
   "id": "d5b334a2",
   "metadata": {},
   "source": [
    "## Respondendo as Perguntas da Atividade"
   ]
  },
  {
   "cell_type": "code",
   "execution_count": 6,
   "id": "329a114d",
   "metadata": {},
   "outputs": [
    {
     "name": "stdout",
     "output_type": "stream",
     "text": [
      "O dataset possui 17379 amostras e 17 colunas.\n"
     ]
    }
   ],
   "source": [
    "#Qual o tamanho desse dataset?\n",
    "print(f\"O dataset possui {dataset.shape[0]} amostras e {dataset.shape[1]} colunas.\")"
   ]
  },
  {
   "cell_type": "code",
   "execution_count": 7,
   "id": "60606b13",
   "metadata": {},
   "outputs": [
    {
     "data": {
      "text/plain": [
       "0.1900976"
      ]
     },
     "execution_count": 7,
     "metadata": {},
     "output_type": "execute_result"
    }
   ],
   "source": [
    "#Qual a média da coluna windspeed?\n",
    "round(dataset['windspeed'].mean(),7)"
   ]
  },
  {
   "cell_type": "code",
   "execution_count": 8,
   "id": "7a738d5a",
   "metadata": {},
   "outputs": [
    {
     "data": {
      "text/plain": [
       "0.4969871684216586"
      ]
     },
     "execution_count": 8,
     "metadata": {},
     "output_type": "execute_result"
    }
   ],
   "source": [
    "#Qual a média da coluna temp?\n",
    "dataset['temp'].mean()"
   ]
  },
  {
   "cell_type": "code",
   "execution_count": 9,
   "id": "47da5b51",
   "metadata": {},
   "outputs": [
    {
     "name": "stdout",
     "output_type": "stream",
     "text": [
      "Existem 8645 registros para 2011.\n"
     ]
    }
   ],
   "source": [
    "#Quantos registros existem para o ano de 2011?\n",
    "filtro2011 = dataset['datetime'].dt.year == 2011\n",
    "print(f'Existem {sum(filtro2011)} registros para 2011.')"
   ]
  },
  {
   "cell_type": "code",
   "execution_count": 11,
   "id": "dbcf865f",
   "metadata": {},
   "outputs": [
    {
     "name": "stdout",
     "output_type": "stream",
     "text": [
      "Existem 8645 registros para 2011.\n"
     ]
    }
   ],
   "source": [
    "#Quantos registros existem para o ano de 2011?\n",
    "filtro2011 = dataset['datetime'].dt.year == 2011\n",
    "print(f'Existem {sum(filtro2011)} registros para 2011.')"
   ]
  },
  {
   "cell_type": "code",
   "execution_count": 12,
   "id": "ec757103",
   "metadata": {},
   "outputs": [
    {
     "name": "stdout",
     "output_type": "stream",
     "text": [
      "Existem 8734 registros para 2012.\n"
     ]
    }
   ],
   "source": [
    "#Quantos registros existem para o ano de 2012?\n",
    "filtro2012 = dataset['datetime'].dt.year == 2012\n",
    "print(f'Existem {sum(filtro2012)} registros para 2012.')"
   ]
  },
  {
   "cell_type": "code",
   "execution_count": 14,
   "id": "03ed9223",
   "metadata": {},
   "outputs": [
    {
     "name": "stdout",
     "output_type": "stream",
     "text": [
      "Foram realiadas 1243103 locações em 2011.\n"
     ]
    }
   ],
   "source": [
    "#Quantas locações de bicicletas foram efetuadas em 2011?\n",
    "filtroLocacao2011 = dataset.groupby(dataset['datetime'].dt.year == 2011)['total_count'].sum()\n",
    "print(f'Foram realiadas {filtroLocacao2011[1]} locações em 2011.')"
   ]
  },
  {
   "cell_type": "code",
   "execution_count": 15,
   "id": "184306a7",
   "metadata": {},
   "outputs": [
    {
     "name": "stdout",
     "output_type": "stream",
     "text": [
      "Foram realiadas 2049576 locações em 2012.\n"
     ]
    }
   ],
   "source": [
    "#Quantas locações de bicicletas foram efetuadas em 2011?\n",
    "filtroLocacao2012 = dataset.groupby(dataset['datetime'].dt.year == 2012)['total_count'].sum()\n",
    "print(f'Foram realiadas {filtroLocacao2012[1]} locações em 2012.')"
   ]
  },
  {
   "cell_type": "code",
   "execution_count": 16,
   "id": "83efacf2",
   "metadata": {},
   "outputs": [
    {
     "data": {
      "text/plain": [
       "season\n",
       "1    111.11\n",
       "2    208.34\n",
       "3    236.02\n",
       "4    198.87\n",
       "Name: total_count, dtype: float64"
      ]
     },
     "execution_count": 16,
     "metadata": {},
     "output_type": "execute_result"
    }
   ],
   "source": [
    "#Média de locações de bicicletas por estação?  (1: inverno, 2: primavera, 3: verão, 4: outono)\n",
    "mediasEstacoes = round(dataset.groupby('season')['total_count'].mean(),2)\n",
    "mediasEstacoes"
   ]
  },
  {
   "cell_type": "code",
   "execution_count": 17,
   "id": "37f55b0c",
   "metadata": {},
   "outputs": [
    {
     "data": {
      "text/plain": [
       "hour\n",
       "0      53.90\n",
       "1      33.38\n",
       "2      22.87\n",
       "3      11.73\n",
       "4       6.35\n",
       "5      19.89\n",
       "6      76.04\n",
       "7     212.06\n",
       "8     359.01\n",
       "9     219.31\n",
       "10    173.67\n",
       "11    208.14\n",
       "12    253.32\n",
       "13    253.66\n",
       "14    240.95\n",
       "15    251.23\n",
       "16    311.98\n",
       "17    461.45\n",
       "18    425.51\n",
       "19    311.52\n",
       "20    226.03\n",
       "21    172.31\n",
       "22    131.34\n",
       "23     87.83\n",
       "Name: total_count, dtype: float64"
      ]
     },
     "execution_count": 17,
     "metadata": {},
     "output_type": "execute_result"
    }
   ],
   "source": [
    "#Média de locações de bicicletas por horário do dia? (0 a 23)\n",
    "mediasHoras = round(dataset.groupby('hour')['total_count'].mean(),2)\n",
    "mediasHoras"
   ]
  },
  {
   "cell_type": "code",
   "execution_count": 18,
   "id": "e1b4125e",
   "metadata": {},
   "outputs": [
    {
     "data": {
      "text/plain": [
       "weekday\n",
       "0    177.47\n",
       "1    183.74\n",
       "2    191.24\n",
       "3    191.13\n",
       "4    196.44\n",
       "5    196.14\n",
       "6    190.21\n",
       "Name: total_count, dtype: float64"
      ]
     },
     "execution_count": 18,
     "metadata": {},
     "output_type": "execute_result"
    }
   ],
   "source": [
    "#Média de locações de bicicletas por dia da semana? (0: domingo, 1: segunda-feira, …, 6: sábado)\n",
    "mediasWeekday = round(dataset.groupby('weekday')['total_count'].mean(),2)\n",
    "mediasWeekday"
   ]
  },
  {
   "cell_type": "code",
   "execution_count": 19,
   "id": "ea97511f",
   "metadata": {},
   "outputs": [
    {
     "data": {
      "text/plain": [
       "hour\n",
       "0      94.30\n",
       "1      67.78\n",
       "2      50.50\n",
       "3      22.89\n",
       "4       7.66\n",
       "5       8.29\n",
       "6      21.00\n",
       "7      45.96\n",
       "8     114.48\n",
       "9     186.79\n",
       "10    263.72\n",
       "11    328.61\n",
       "12    375.38\n",
       "13    385.37\n",
       "14    381.33\n",
       "15    382.43\n",
       "16    366.14\n",
       "17    334.41\n",
       "18    292.05\n",
       "19    239.93\n",
       "20    180.87\n",
       "21    156.00\n",
       "22    139.66\n",
       "23    115.86\n",
       "Name: total_count, dtype: float64"
      ]
     },
     "execution_count": 19,
     "metadata": {},
     "output_type": "execute_result"
    }
   ],
   "source": [
    "# Qual horário do dia da semana, contém a maior média de locações de bicicletas?\n",
    "mediasQuarta = dataset.query(\"weekday == 6\")\n",
    "round(mediasQuarta.groupby('hour')['total_count'].mean(),2)"
   ]
  },
  {
   "cell_type": "markdown",
   "id": "06dece3c",
   "metadata": {},
   "source": [
    "### - fim -"
   ]
  },
  {
   "cell_type": "code",
   "execution_count": null,
   "id": "b6685eba",
   "metadata": {},
   "outputs": [],
   "source": []
  }
 ],
 "metadata": {
  "kernelspec": {
   "display_name": "Python 3 (ipykernel)",
   "language": "python",
   "name": "python3"
  },
  "language_info": {
   "codemirror_mode": {
    "name": "ipython",
    "version": 3
   },
   "file_extension": ".py",
   "mimetype": "text/x-python",
   "name": "python",
   "nbconvert_exporter": "python",
   "pygments_lexer": "ipython3",
   "version": "3.9.13"
  }
 },
 "nbformat": 4,
 "nbformat_minor": 5
}
