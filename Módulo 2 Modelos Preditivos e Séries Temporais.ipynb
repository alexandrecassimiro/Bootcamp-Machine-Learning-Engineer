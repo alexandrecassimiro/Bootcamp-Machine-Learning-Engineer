{
 "cells": [
  {
   "cell_type": "markdown",
   "id": "ea60c6db",
   "metadata": {},
   "source": [
    "# Módulo 2: Modelos Preditivos e Séries Temporais\n",
    "\n",
    "por Otávio Muraca\n"
   ]
  },
  {
   "cell_type": "code",
   "execution_count": 32,
   "id": "f86f5d71",
   "metadata": {},
   "outputs": [],
   "source": [
    "#Importações\n",
    "import pandas as pd\n",
    "import numpy as np\n",
    "import seaborn as sns\n",
    "import matplotlib.pyplot as plt\n",
    "\n",
    "import warnings"
   ]
  },
  {
   "cell_type": "code",
   "execution_count": 5,
   "id": "95e73be3",
   "metadata": {},
   "outputs": [],
   "source": [
    "#Importando dataset\n",
    "url = \"https://pycourse.s3.amazonaws.com/banknote_authentication.txt\"\n",
    "dataset = pd.read_csv(url, header=None, names=['variance', 'skewness', 'curtosis', 'entropy', 'class'])"
   ]
  },
  {
   "cell_type": "code",
   "execution_count": 8,
   "id": "f39617dc",
   "metadata": {},
   "outputs": [
    {
     "data": {
      "text/html": [
       "<div>\n",
       "<style scoped>\n",
       "    .dataframe tbody tr th:only-of-type {\n",
       "        vertical-align: middle;\n",
       "    }\n",
       "\n",
       "    .dataframe tbody tr th {\n",
       "        vertical-align: top;\n",
       "    }\n",
       "\n",
       "    .dataframe thead th {\n",
       "        text-align: right;\n",
       "    }\n",
       "</style>\n",
       "<table border=\"1\" class=\"dataframe\">\n",
       "  <thead>\n",
       "    <tr style=\"text-align: right;\">\n",
       "      <th></th>\n",
       "      <th>variance</th>\n",
       "      <th>skewness</th>\n",
       "      <th>curtosis</th>\n",
       "      <th>entropy</th>\n",
       "      <th>class</th>\n",
       "    </tr>\n",
       "  </thead>\n",
       "  <tbody>\n",
       "    <tr>\n",
       "      <th>0</th>\n",
       "      <td>3.62160</td>\n",
       "      <td>8.6661</td>\n",
       "      <td>-2.8073</td>\n",
       "      <td>-0.44699</td>\n",
       "      <td>0</td>\n",
       "    </tr>\n",
       "    <tr>\n",
       "      <th>1</th>\n",
       "      <td>4.54590</td>\n",
       "      <td>8.1674</td>\n",
       "      <td>-2.4586</td>\n",
       "      <td>-1.46210</td>\n",
       "      <td>0</td>\n",
       "    </tr>\n",
       "    <tr>\n",
       "      <th>2</th>\n",
       "      <td>3.86600</td>\n",
       "      <td>-2.6383</td>\n",
       "      <td>1.9242</td>\n",
       "      <td>0.10645</td>\n",
       "      <td>0</td>\n",
       "    </tr>\n",
       "    <tr>\n",
       "      <th>3</th>\n",
       "      <td>3.45660</td>\n",
       "      <td>9.5228</td>\n",
       "      <td>-4.0112</td>\n",
       "      <td>-3.59440</td>\n",
       "      <td>0</td>\n",
       "    </tr>\n",
       "    <tr>\n",
       "      <th>4</th>\n",
       "      <td>0.32924</td>\n",
       "      <td>-4.4552</td>\n",
       "      <td>4.5718</td>\n",
       "      <td>-0.98880</td>\n",
       "      <td>0</td>\n",
       "    </tr>\n",
       "  </tbody>\n",
       "</table>\n",
       "</div>"
      ],
      "text/plain": [
       "   variance  skewness  curtosis  entropy  class\n",
       "0   3.62160    8.6661   -2.8073 -0.44699      0\n",
       "1   4.54590    8.1674   -2.4586 -1.46210      0\n",
       "2   3.86600   -2.6383    1.9242  0.10645      0\n",
       "3   3.45660    9.5228   -4.0112 -3.59440      0\n",
       "4   0.32924   -4.4552    4.5718 -0.98880      0"
      ]
     },
     "execution_count": 8,
     "metadata": {},
     "output_type": "execute_result"
    }
   ],
   "source": [
    "dataset.head(5)"
   ]
  },
  {
   "cell_type": "code",
   "execution_count": 16,
   "id": "64144ff2",
   "metadata": {},
   "outputs": [
    {
     "name": "stdout",
     "output_type": "stream",
     "text": [
      "<class 'pandas.core.frame.DataFrame'>\n",
      "RangeIndex: 1372 entries, 0 to 1371\n",
      "Data columns (total 5 columns):\n",
      " #   Column    Non-Null Count  Dtype  \n",
      "---  ------    --------------  -----  \n",
      " 0   variance  1372 non-null   float64\n",
      " 1   skewness  1372 non-null   float64\n",
      " 2   curtosis  1372 non-null   float64\n",
      " 3   entropy   1372 non-null   float64\n",
      " 4   class     1372 non-null   int64  \n",
      "dtypes: float64(4), int64(1)\n",
      "memory usage: 53.7 KB\n"
     ]
    }
   ],
   "source": [
    "#Verificando a presença de valore nulos\n",
    "dataset.info()"
   ]
  },
  {
   "cell_type": "code",
   "execution_count": 9,
   "id": "653ea3df",
   "metadata": {},
   "outputs": [
    {
     "name": "stdout",
     "output_type": "stream",
     "text": [
      "O dataset possui 1372 amostras e 5 características.\n"
     ]
    }
   ],
   "source": [
    "#Qual o tamanho desse dataset (número de linhas, número de colunas)? \n",
    "print(f\"O dataset possui {dataset.shape[0]} amostras e {dataset.shape[1]} características.\")"
   ]
  },
  {
   "cell_type": "code",
   "execution_count": 11,
   "id": "4dfed588",
   "metadata": {},
   "outputs": [
    {
     "name": "stdout",
     "output_type": "stream",
     "text": [
      "Range na coluna variance é de: 13.8669.\n",
      "Range na coluna skewness é de: 26.7247.\n",
      "Range na coluna curtosis é de: 23.2135.\n",
      "Range na coluna entropy é de: 10.9977.\n",
      "Range na coluna class é de: 1.\n"
     ]
    }
   ],
   "source": [
    "#Qual variável possui o maior range (diferença entre valor máximo e mínimo)? \n",
    "for i in dataset:\n",
    "  print(f\"Range na coluna {i} é de: {dataset[i].max() - dataset[i].min()}.\")"
   ]
  },
  {
   "cell_type": "code",
   "execution_count": 12,
   "id": "a99e2890",
   "metadata": {},
   "outputs": [
    {
     "data": {
      "text/html": [
       "<div>\n",
       "<style scoped>\n",
       "    .dataframe tbody tr th:only-of-type {\n",
       "        vertical-align: middle;\n",
       "    }\n",
       "\n",
       "    .dataframe tbody tr th {\n",
       "        vertical-align: top;\n",
       "    }\n",
       "\n",
       "    .dataframe thead th {\n",
       "        text-align: right;\n",
       "    }\n",
       "</style>\n",
       "<table border=\"1\" class=\"dataframe\">\n",
       "  <thead>\n",
       "    <tr style=\"text-align: right;\">\n",
       "      <th></th>\n",
       "      <th>variance</th>\n",
       "      <th>skewness</th>\n",
       "      <th>curtosis</th>\n",
       "      <th>entropy</th>\n",
       "      <th>class</th>\n",
       "    </tr>\n",
       "  </thead>\n",
       "  <tbody>\n",
       "    <tr>\n",
       "      <th>count</th>\n",
       "      <td>1372.000000</td>\n",
       "      <td>1372.000000</td>\n",
       "      <td>1372.000000</td>\n",
       "      <td>1372.000000</td>\n",
       "      <td>1372.000000</td>\n",
       "    </tr>\n",
       "    <tr>\n",
       "      <th>mean</th>\n",
       "      <td>0.433735</td>\n",
       "      <td>1.922353</td>\n",
       "      <td>1.397627</td>\n",
       "      <td>-1.191657</td>\n",
       "      <td>0.444606</td>\n",
       "    </tr>\n",
       "    <tr>\n",
       "      <th>std</th>\n",
       "      <td>2.842763</td>\n",
       "      <td>5.869047</td>\n",
       "      <td>4.310030</td>\n",
       "      <td>2.101013</td>\n",
       "      <td>0.497103</td>\n",
       "    </tr>\n",
       "    <tr>\n",
       "      <th>min</th>\n",
       "      <td>-7.042100</td>\n",
       "      <td>-13.773100</td>\n",
       "      <td>-5.286100</td>\n",
       "      <td>-8.548200</td>\n",
       "      <td>0.000000</td>\n",
       "    </tr>\n",
       "    <tr>\n",
       "      <th>25%</th>\n",
       "      <td>-1.773000</td>\n",
       "      <td>-1.708200</td>\n",
       "      <td>-1.574975</td>\n",
       "      <td>-2.413450</td>\n",
       "      <td>0.000000</td>\n",
       "    </tr>\n",
       "    <tr>\n",
       "      <th>50%</th>\n",
       "      <td>0.496180</td>\n",
       "      <td>2.319650</td>\n",
       "      <td>0.616630</td>\n",
       "      <td>-0.586650</td>\n",
       "      <td>0.000000</td>\n",
       "    </tr>\n",
       "    <tr>\n",
       "      <th>75%</th>\n",
       "      <td>2.821475</td>\n",
       "      <td>6.814625</td>\n",
       "      <td>3.179250</td>\n",
       "      <td>0.394810</td>\n",
       "      <td>1.000000</td>\n",
       "    </tr>\n",
       "    <tr>\n",
       "      <th>max</th>\n",
       "      <td>6.824800</td>\n",
       "      <td>12.951600</td>\n",
       "      <td>17.927400</td>\n",
       "      <td>2.449500</td>\n",
       "      <td>1.000000</td>\n",
       "    </tr>\n",
       "  </tbody>\n",
       "</table>\n",
       "</div>"
      ],
      "text/plain": [
       "          variance     skewness     curtosis      entropy        class\n",
       "count  1372.000000  1372.000000  1372.000000  1372.000000  1372.000000\n",
       "mean      0.433735     1.922353     1.397627    -1.191657     0.444606\n",
       "std       2.842763     5.869047     4.310030     2.101013     0.497103\n",
       "min      -7.042100   -13.773100    -5.286100    -8.548200     0.000000\n",
       "25%      -1.773000    -1.708200    -1.574975    -2.413450     0.000000\n",
       "50%       0.496180     2.319650     0.616630    -0.586650     0.000000\n",
       "75%       2.821475     6.814625     3.179250     0.394810     1.000000\n",
       "max       6.824800    12.951600    17.927400     2.449500     1.000000"
      ]
     },
     "execution_count": 12,
     "metadata": {},
     "output_type": "execute_result"
    }
   ],
   "source": [
    "#Qual a média da coluna skewness? \n",
    "dataset.describe()"
   ]
  },
  {
   "cell_type": "code",
   "execution_count": 14,
   "id": "c34b8adb",
   "metadata": {},
   "outputs": [
    {
     "name": "stdout",
     "output_type": "stream",
     "text": [
      "No dataset, foram encontradas 55.54% de notas falsas.\n"
     ]
    }
   ],
   "source": [
    "#Qual a porcentagem de exemplos do dataset que são cédulas falsas (class=1)? \n",
    "\n",
    "#((VALOR FINAL - VALOR INICIAL) / VALOR INICIAL) * 100\n",
    "\n",
    "cedulasFalsas = round(abs((dataset['class'].value_counts()[1] - dataset.shape[0]) / dataset.shape[0]) * 100,2)\n",
    "print(f\"No dataset, foram encontradas {cedulasFalsas}% de notas falsas.\")"
   ]
  },
  {
   "cell_type": "markdown",
   "id": "7bd7ea94",
   "metadata": {},
   "source": [
    "## Correlações"
   ]
  },
  {
   "cell_type": "code",
   "execution_count": 19,
   "id": "f463c9b2",
   "metadata": {},
   "outputs": [
    {
     "data": {
      "text/plain": [
       "<AxesSubplot:>"
      ]
     },
     "execution_count": 19,
     "metadata": {},
     "output_type": "execute_result"
    },
    {
     "data": {
      "image/png": "[encoded data removed]",
      "text/plain": [
       "<Figure size 800x800 with 2 Axes>"
      ]
     },
     "metadata": {},
     "output_type": "display_data"
    }
   ],
   "source": [
    "fig, ax = plt.subplots(figsize=(8,8))\n",
    "sns.heatmap(data=dataset.corr(), annot=True, linewidths=2, cmap='BuPu', fmt='.6f' )"
   ]
  },
  {
   "cell_type": "markdown",
   "id": "e957c427",
   "metadata": {},
   "source": [
    "## Escalas do dataset"
   ]
  },
  {
   "cell_type": "code",
   "execution_count": 20,
   "id": "726aceb9",
   "metadata": {},
   "outputs": [
    {
     "data": {
      "text/plain": [
       "<AxesSubplot:>"
      ]
     },
     "execution_count": 20,
     "metadata": {},
     "output_type": "execute_result"
    },
    {
     "data": {
      "image/png": "[encoded data removed]",
      "text/plain": [
       "<Figure size 640x480 with 1 Axes>"
      ]
     },
     "metadata": {},
     "output_type": "display_data"
    }
   ],
   "source": [
    "#Verificar a Escala\n",
    "sns.boxplot(data=dataset)"
   ]
  },
  {
   "cell_type": "code",
   "execution_count": 21,
   "id": "a464a448",
   "metadata": {},
   "outputs": [
    {
     "data": {
      "text/plain": [
       "Index(['variance', 'skewness', 'curtosis', 'entropy', 'class'], dtype='object')"
      ]
     },
     "execution_count": 21,
     "metadata": {},
     "output_type": "execute_result"
    }
   ],
   "source": [
    "#Capturando os nomes das colunas\n",
    "dataset.columns"
   ]
  },
  {
   "cell_type": "code",
   "execution_count": 23,
   "id": "7194d0d1",
   "metadata": {},
   "outputs": [
    {
     "data": {
      "text/html": [
       "<div>\n",
       "<style scoped>\n",
       "    .dataframe tbody tr th:only-of-type {\n",
       "        vertical-align: middle;\n",
       "    }\n",
       "\n",
       "    .dataframe tbody tr th {\n",
       "        vertical-align: top;\n",
       "    }\n",
       "\n",
       "    .dataframe thead th {\n",
       "        text-align: right;\n",
       "    }\n",
       "</style>\n",
       "<table border=\"1\" class=\"dataframe\">\n",
       "  <thead>\n",
       "    <tr style=\"text-align: right;\">\n",
       "      <th></th>\n",
       "      <th>variance</th>\n",
       "      <th>skewness</th>\n",
       "      <th>curtosis</th>\n",
       "      <th>entropy</th>\n",
       "      <th>class</th>\n",
       "    </tr>\n",
       "  </thead>\n",
       "  <tbody>\n",
       "    <tr>\n",
       "      <th>0</th>\n",
       "      <td>0.769004</td>\n",
       "      <td>0.839643</td>\n",
       "      <td>0.106783</td>\n",
       "      <td>0.736628</td>\n",
       "      <td>0</td>\n",
       "    </tr>\n",
       "    <tr>\n",
       "      <th>1</th>\n",
       "      <td>0.835659</td>\n",
       "      <td>0.820982</td>\n",
       "      <td>0.121804</td>\n",
       "      <td>0.644326</td>\n",
       "      <td>0</td>\n",
       "    </tr>\n",
       "    <tr>\n",
       "      <th>2</th>\n",
       "      <td>0.786629</td>\n",
       "      <td>0.416648</td>\n",
       "      <td>0.310608</td>\n",
       "      <td>0.786951</td>\n",
       "      <td>0</td>\n",
       "    </tr>\n",
       "    <tr>\n",
       "      <th>3</th>\n",
       "      <td>0.757105</td>\n",
       "      <td>0.871699</td>\n",
       "      <td>0.054921</td>\n",
       "      <td>0.450440</td>\n",
       "      <td>0</td>\n",
       "    </tr>\n",
       "    <tr>\n",
       "      <th>4</th>\n",
       "      <td>0.531578</td>\n",
       "      <td>0.348662</td>\n",
       "      <td>0.424662</td>\n",
       "      <td>0.687362</td>\n",
       "      <td>0</td>\n",
       "    </tr>\n",
       "  </tbody>\n",
       "</table>\n",
       "</div>"
      ],
      "text/plain": [
       "   variance  skewness  curtosis   entropy  class\n",
       "0  0.769004  0.839643  0.106783  0.736628      0\n",
       "1  0.835659  0.820982  0.121804  0.644326      0\n",
       "2  0.786629  0.416648  0.310608  0.786951      0\n",
       "3  0.757105  0.871699  0.054921  0.450440      0\n",
       "4  0.531578  0.348662  0.424662  0.687362      0"
      ]
     },
     "execution_count": 23,
     "metadata": {},
     "output_type": "execute_result"
    }
   ],
   "source": [
    "#Padronizando as escalas\n",
    "from sklearn.preprocessing import MinMaxScaler, StandardScaler\n",
    "scaler = MinMaxScaler()\n",
    "\n",
    "dataCopy = pd.DataFrame(dataset, columns=['variance', 'skewness', 'curtosis', 'entropy', 'class'])\n",
    "dataScaled = scaler.fit_transform(dataCopy.drop('class', axis=1).values)\n",
    "\n",
    "dataSetScaled = pd.DataFrame(data=dataScaled, columns = dataCopy.columns.drop('class'))\n",
    "dataSetScaled = pd.concat([dataSetScaled, dataCopy['class']], axis=1)\n",
    "dataSetScaled.head(5)\n"
   ]
  },
  {
   "cell_type": "code",
   "execution_count": 24,
   "id": "787de8ac",
   "metadata": {},
   "outputs": [
    {
     "data": {
      "text/plain": [
       "<AxesSubplot:>"
      ]
     },
     "execution_count": 24,
     "metadata": {},
     "output_type": "execute_result"
    },
    {
     "data": {
      "image/png": "[encoded data removed]",
      "text/plain": [
       "<Figure size 640x480 with 1 Axes>"
      ]
     },
     "metadata": {},
     "output_type": "display_data"
    }
   ],
   "source": [
    "#Verificar a nova Escala\n",
    "sns.boxplot(data=dataSetScaled)"
   ]
  },
  {
   "cell_type": "markdown",
   "id": "6a00c36c",
   "metadata": {},
   "source": [
    "## Divisão dos dados de TESTE/TREINAMENTO"
   ]
  },
  {
   "cell_type": "code",
   "execution_count": 25,
   "id": "2c902753",
   "metadata": {},
   "outputs": [],
   "source": [
    "x = dataSetScaled.iloc[:,0:-1].values #Selecionando as colunas de características\n",
    "y = dataSetScaled.iloc[:,4].values #Selecionando a coluna resposta"
   ]
  },
  {
   "cell_type": "code",
   "execution_count": 26,
   "id": "74e3d26f",
   "metadata": {},
   "outputs": [],
   "source": [
    "#Dividindo as amostras entre TREINO/TEST\n",
    "from sklearn.model_selection import train_test_split as tts\n",
    "X_train, X_test, y_train, y_test = tts(x, y, random_state= 1 , test_size=0.3)"
   ]
  },
  {
   "cell_type": "markdown",
   "id": "6fc600e7",
   "metadata": {},
   "source": [
    "## KNN"
   ]
  },
  {
   "cell_type": "code",
   "execution_count": 34,
   "id": "b61e2eae",
   "metadata": {},
   "outputs": [
    {
     "name": "stdout",
     "output_type": "stream",
     "text": [
      "A acurácia do algoritmo KNN foi de 0.99757%.\n",
      "\n"
     ]
    }
   ],
   "source": [
    "#Método KNN\n",
    "from sklearn.metrics import classification_report, confusion_matrix, precision_score, accuracy_score\n",
    "from sklearn.utils.multiclass import check_classification_targets\n",
    "from sklearn.neighbors import KNeighborsClassifier\n",
    "\n",
    "classifierKNN = KNeighborsClassifier(n_neighbors=5)\n",
    "classifierKNN.fit(X_train, y_train)\n",
    "\n",
    "y_pred = classifierKNN.predict(X_test)\n",
    "\n",
    "print(f'A acurácia do algoritmo KNN foi de {round(accuracy_score(y_test, y_pred),5)}%.\\n')"
   ]
  },
  {
   "cell_type": "markdown",
   "id": "4658926a",
   "metadata": {},
   "source": [
    "## Árvore de Decisão"
   ]
  },
  {
   "cell_type": "code",
   "execution_count": 39,
   "id": "57c67924",
   "metadata": {},
   "outputs": [
    {
     "data": {
      "image/png": "[encoded data removed]",
      "text/plain": [
       "<Figure size 640x480 with 1 Axes>"
      ]
     },
     "metadata": {},
     "output_type": "display_data"
    }
   ],
   "source": [
    "#Plotando a Árvore de Decisão\n",
    "\n",
    "from mlxtend.plotting import plot_confusion_matrix\n",
    "matrixConfusao = confusion_matrix(y_test, y_pred)\n",
    "\n",
    "fig, ax = plot_confusion_matrix(conf_mat=matrixConfusao)\n",
    "plt.show()"
   ]
  },
  {
   "cell_type": "code",
   "execution_count": 40,
   "id": "318e40c6",
   "metadata": {},
   "outputs": [
    {
     "name": "stdout",
     "output_type": "stream",
     "text": [
      "A acurácia do algoritmo Árvore de Decisão foi de 0.98786%.\n",
      "\n"
     ]
    }
   ],
   "source": [
    "#Método Árvore de Decisão\n",
    "from sklearn.tree import DecisionTreeClassifier, export_graphviz\n",
    "\n",
    "\n",
    "classifierArvoreDecisao = DecisionTreeClassifier(random_state=1)\n",
    "classifierArvoreDecisao.fit(X_train, y_train)\n",
    "\n",
    "y_pred = classifierArvoreDecisao.predict(X_test)\n",
    "\n",
    "print(f'A acurácia do algoritmo Árvore de Decisão foi de {round(accuracy_score(y_test, y_pred),5)}%.\\n')"
   ]
  },
  {
   "cell_type": "markdown",
   "id": "0b2def38",
   "metadata": {},
   "source": [
    "## Algoritmo Floresta Aleatória (Random Forest)"
   ]
  },
  {
   "cell_type": "code",
   "execution_count": 41,
   "id": "64b85b19",
   "metadata": {},
   "outputs": [
    {
     "name": "stdout",
     "output_type": "stream",
     "text": [
      "A acurácia do algoritmo Random Forest foi de 0.995146%.\n",
      "\n"
     ]
    }
   ],
   "source": [
    "#Método Algoritmo Floresta Aleatória (Random Forest)\n",
    "from sklearn.ensemble import RandomForestClassifier\n",
    "\n",
    "classifierRandomForest = RandomForestClassifier(max_depth=8, random_state=1)\n",
    "classifierRandomForest.fit(X_train, y_train)\n",
    "\n",
    "y_pred = classifierRandomForest.predict(X_test)\n",
    "\n",
    "print(f'A acurácia do algoritmo Random Forest foi de {round(accuracy_score(y_test, y_pred),6)}%.\\n')"
   ]
  },
  {
   "cell_type": "markdown",
   "id": "07e762cd",
   "metadata": {},
   "source": [
    "## SVM"
   ]
  },
  {
   "cell_type": "code",
   "execution_count": 42,
   "id": "1ec1893d",
   "metadata": {},
   "outputs": [
    {
     "name": "stdout",
     "output_type": "stream",
     "text": [
      "A acurácia do algoritmo SVM foi de 1.0%.\n",
      "\n"
     ]
    }
   ],
   "source": [
    "#Método Algoritmo Floresta Aleatória (Random Forest)\n",
    "from sklearn.svm import SVC\n",
    "\n",
    "classifierSVM = SVC(gamma='scale',kernel='rbf', random_state=1)\n",
    "classifierSVM.fit(X_train, y_train)\n",
    "\n",
    "y_pred = classifierSVM.predict(X_test)\n",
    "\n",
    "print(f'A acurácia do algoritmo SVM foi de {round(accuracy_score(y_test, y_pred),5)}%.\\n')"
   ]
  },
  {
   "cell_type": "markdown",
   "id": "092bbd88",
   "metadata": {},
   "source": [
    "## MLP"
   ]
  },
  {
   "cell_type": "code",
   "execution_count": 43,
   "id": "46f7e91c",
   "metadata": {},
   "outputs": [
    {
     "name": "stdout",
     "output_type": "stream",
     "text": [
      "A acurácia do algoritmo MLP foi de 0.99757%.\n",
      "\n"
     ]
    }
   ],
   "source": [
    "#Método Algoritmo MLP\n",
    "from sklearn.neural_network import MLPClassifier\n",
    "\n",
    "classifierMLP= MLPClassifier(hidden_layer_sizes=(100), solver='lbfgs', random_state=1) \n",
    "classifierMLP.fit(X_train, y_train)\n",
    "\n",
    "y_pred = classifierMLP.predict(X_test)\n",
    "\n",
    "\n",
    "print(f'A acurácia do algoritmo MLP foi de {round(accuracy_score(y_test, y_pred),5)}%.\\n');"
   ]
  },
  {
   "cell_type": "markdown",
   "id": "dfb6be9d",
   "metadata": {},
   "source": [
    "## Feature Importances"
   ]
  },
  {
   "cell_type": "code",
   "execution_count": 47,
   "id": "8ac31ee4",
   "metadata": {},
   "outputs": [
    {
     "data": {
      "text/plain": [
       "Index(['variance', 'skewness', 'curtosis', 'entropy', 'class'], dtype='object')"
      ]
     },
     "execution_count": 47,
     "metadata": {},
     "output_type": "execute_result"
    }
   ],
   "source": [
    "dataset.columns"
   ]
  },
  {
   "cell_type": "code",
   "execution_count": 44,
   "id": "5f860d1e",
   "metadata": {},
   "outputs": [
    {
     "data": {
      "text/plain": [
       "variance    0.560667\n",
       "skewness    0.240586\n",
       "curtosis    0.140228\n",
       "entropy     0.058519\n",
       "dtype: float64"
      ]
     },
     "execution_count": 44,
     "metadata": {},
     "output_type": "execute_result"
    }
   ],
   "source": [
    "#Analisando o valor da importância relativa das features do Random Forest (atributo feature_importances_)\n",
    "#qual feature melhor contribuiu para a predição de class? \n",
    "\n",
    "featureImportances = classifierRandomForest.feature_importances_\n",
    "featureLabels = ['variance','skewness','curtosis','entropy']\n",
    "\n",
    "featureImportances = pd.Series(featureImportances, index=featureLabels)\n",
    "\n",
    "featureImportances"
   ]
  },
  {
   "cell_type": "code",
   "execution_count": 49,
   "id": "f33b7fbc",
   "metadata": {},
   "outputs": [],
   "source": [
    "#end"
   ]
  }
 ],
 "metadata": {
  "kernelspec": {
   "display_name": "Python 3 (ipykernel)",
   "language": "python",
   "name": "python3"
  },
  "language_info": {
   "codemirror_mode": {
    "name": "ipython",
    "version": 3
   },
   "file_extension": ".py",
   "mimetype": "text/x-python",
   "name": "python",
   "nbconvert_exporter": "python",
   "pygments_lexer": "ipython3",
   "version": "3.9.13"
  }
 },
 "nbformat": 4,
 "nbformat_minor": 5
}
