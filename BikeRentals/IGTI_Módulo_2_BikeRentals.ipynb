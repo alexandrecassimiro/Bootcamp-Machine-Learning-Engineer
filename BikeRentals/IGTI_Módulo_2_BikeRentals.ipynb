{
  "nbformat": 4,
  "nbformat_minor": 0,
  "metadata": {
    "colab": {
      "private_outputs": true,
      "provenance": [],
      "authorship_tag": "ABX9TyNSrw048SvFtwPODCehg0Hl",
      "include_colab_link": true
    },
    "kernelspec": {
      "name": "python3",
      "display_name": "Python 3"
    },
    "language_info": {
      "name": "python"
    }
  },
  "cells": [
    {
      "cell_type": "markdown",
      "metadata": {
        "id": "view-in-github",
        "colab_type": "text"
      },
      "source": [
        "<a href=\"https://colab.research.google.com/github/otaviomuraca/Bootcamp-Machine-Learning-Engineer/blob/main/IGTI_M%C3%B3dulo_2_BikeRentals.ipynb\" target=\"_parent\"><img src=\"https://colab.research.google.com/assets/colab-badge.svg\" alt=\"Open In Colab\"/></a>"
      ]
    },
    {
      "cell_type": "markdown",
      "source": [
        "#Módulo 2: Modelos Preditivos e Séries Temporais\n",
        "###Bootcamp: Engenheiro(a) de Machine Learning - XPE - IGTI"
      ],
      "metadata": {
        "id": "JyhiyfBbh_l3"
      }
    },
    {
      "cell_type": "markdown",
      "source": [
        "O uso de bicicletas como um meio de transporte ganhou muita força nos\n",
        "últimos anos, seja por questões ambientais, de saúde ou até mesmo\n",
        "infraestrutura de trânsito. Para incentivar o uso, cidades em todo o mundo\n",
        "têm implementado programas de compartilhamento de bicicleta. Nesses\n",
        "sistemas, as bicicletas são retiradas e devolvidas em quiosques\n",
        "automatizados espalhados em diversos pontos da cidade.\n",
        "As plataformas de compartilhamento de bicicletas costumam coletar diversos\n",
        "tipos de dados, entre eles: duração da viagem, localização inicial e final do percurso,\n",
        "entre outros. Esses dados coletados pela plataforma, em conjunto com\n",
        "informações sobre o clima, trânsito e relevo, por exemplo, tornam possível uma\n",
        "análise mais robusta de compartilhamento de bicicletas."
      ],
      "metadata": {
        "id": "9yoPm_7sh_gR"
      }
    },
    {
      "cell_type": "code",
      "execution_count": null,
      "metadata": {
        "id": "WfuNRfPeg5Wx"
      },
      "outputs": [],
      "source": [
        "#Importações\n",
        "import pandas as pd\n",
        "import numpy as np"
      ]
    },
    {
      "cell_type": "code",
      "source": [
        "#importando dataset\n",
        "url = \"https://pycourse.s3.amazonaws.com/bike-sharing.csv\"\n",
        "dataset = pd.read_csv(url)"
      ],
      "metadata": {
        "id": "zRCLIZxbi2iy"
      },
      "execution_count": null,
      "outputs": []
    },
    {
      "cell_type": "code",
      "source": [
        "dataset"
      ],
      "metadata": {
        "id": "CNmM2JQGi-rH"
      },
      "execution_count": null,
      "outputs": []
    },
    {
      "cell_type": "code",
      "source": [
        "dataset.info()"
      ],
      "metadata": {
        "id": "N0j2rgJnlR3W"
      },
      "execution_count": null,
      "outputs": []
    },
    {
      "cell_type": "code",
      "source": [
        " #Qual o tamanho desse dataset?\n",
        "print(f\"O dataset possui {dataset.shape[0]} amostras e {dataset.shape[1]} colunas.\")"
      ],
      "metadata": {
        "id": "Qk2fYfEXjPC3"
      },
      "execution_count": null,
      "outputs": []
    },
    {
      "cell_type": "code",
      "source": [
        "#Qual a média da coluna windspeed?\n",
        "round(dataset['windspeed'].mean(),7)"
      ],
      "metadata": {
        "id": "zPBl4wu_jeGN"
      },
      "execution_count": null,
      "outputs": []
    },
    {
      "cell_type": "code",
      "source": [
        "#Qual a média da coluna temp?\n",
        "dataset['temp'].mean()"
      ],
      "metadata": {
        "id": "jSvbmASGkIKo"
      },
      "execution_count": null,
      "outputs": []
    },
    {
      "cell_type": "code",
      "source": [
        "#Quantos registros existem para o ano de 2011?\n",
        "dataset['datetime'] = pd.to_datetime(dataset['datetime'])\n",
        "filtro2011 = dataset['datetime'].dt.year == 2011\n",
        "print(f'Existem {sum(filtro2011)} registros para 2011.')"
      ],
      "metadata": {
        "id": "UE-vy7OxkTmf"
      },
      "execution_count": null,
      "outputs": []
    },
    {
      "cell_type": "code",
      "source": [
        "#Quantos registros existem para o ano de 2012?\n",
        "filtro2012 = dataset['datetime'].dt.year == 2012\n",
        "print(f'Existem {sum(filtro2012)} registros para 2012.')"
      ],
      "metadata": {
        "id": "B5t_OiqblQKr"
      },
      "execution_count": null,
      "outputs": []
    },
    {
      "cell_type": "code",
      "source": [
        "#Quantas locações de bicicletas foram efetuadas em 2011?\n",
        "filtroLocacao2011 = dataset.groupby(dataset['datetime'].dt.year == 2011)['total_count'].sum()\n",
        "print(f'Foram realiadas {filtroLocacao2011[1]} locações em 2011.')"
      ],
      "metadata": {
        "id": "YsaQWJ-WoB5f"
      },
      "execution_count": null,
      "outputs": []
    },
    {
      "cell_type": "code",
      "source": [
        "#Quantas locações de bicicletas foram efetuadas em 2011?\n",
        "filtroLocacao2012 = dataset.groupby(dataset['datetime'].dt.year == 2012)['total_count'].sum()\n",
        "print(f'Foram realiadas {filtroLocacao2012[1]} locações em 2012.')"
      ],
      "metadata": {
        "id": "wCcdb7ZjrSYU"
      },
      "execution_count": null,
      "outputs": []
    },
    {
      "cell_type": "code",
      "source": [
        "#Média de locações de bicicletas por estação?  (1: inverno, 2: primavera, 3: verão, 4: outono)\n",
        "mediasEstacoes = round(dataset.groupby('season')['total_count'].mean(),2)\n",
        "mediasEstacoes"
      ],
      "metadata": {
        "id": "iskqYA7wsMHg"
      },
      "execution_count": null,
      "outputs": []
    },
    {
      "cell_type": "code",
      "source": [
        "#Média de locações de bicicletas por horário do dia? (0 a 23)\n",
        "mediasHoras = round(dataset.groupby('hour')['total_count'].mean(),2)\n",
        "mediasHoras"
      ],
      "metadata": {
        "id": "_5PZlBCZvHYx"
      },
      "execution_count": null,
      "outputs": []
    },
    {
      "cell_type": "code",
      "source": [
        "#Média de locações de bicicletas por dia da semana? (0: domingo, 1: segunda-feira, …, 6: sábado)\n",
        "mediasWeekday = round(dataset.groupby('weekday')['total_count'].mean(),2)\n",
        "mediasWeekday"
      ],
      "metadata": {
        "id": "YKlOWmstwApJ"
      },
      "execution_count": null,
      "outputs": []
    },
    {
      "cell_type": "code",
      "source": [
        "# Qual horário do dia da semana, contém a maior média de locações de bicicletas?\n",
        "mediasQuarta = dataset.query(\"weekday == 6\")\n",
        "round(mediasQuarta.groupby('hour')['total_count'].mean(),2)"
      ],
      "metadata": {
        "id": "NtVhrz-RwSkf"
      },
      "execution_count": null,
      "outputs": []
    },
    {
      "cell_type": "code",
      "source": [],
      "metadata": {
        "id": "w5ogTb8Bw8mD"
      },
      "execution_count": null,
      "outputs": []
    }
  ]
}
