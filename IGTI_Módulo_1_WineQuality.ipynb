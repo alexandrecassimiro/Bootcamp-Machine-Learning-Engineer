{
  "nbformat": 4,
  "nbformat_minor": 0,
  "metadata": {
    "colab": {
      "private_outputs": true,
      "provenance": [],
      "authorship_tag": "ABX9TyNICP7HNY30HhjJATTPKUQP",
      "include_colab_link": true
    },
    "kernelspec": {
      "name": "python3",
      "display_name": "Python 3"
    },
    "language_info": {
      "name": "python"
    }
  },
  "cells": [
    {
      "cell_type": "markdown",
      "metadata": {
        "id": "view-in-github",
        "colab_type": "text"
      },
      "source": [
        "<a href=\"https://colab.research.google.com/github/otaviomuraca/Bootcamp-Machine-Learning-Engineer/blob/main/IGTI_M%C3%B3dulo_1_WineQuality.ipynb\" target=\"_parent\"><img src=\"https://colab.research.google.com/assets/colab-badge.svg\" alt=\"Open In Colab\"/></a>"
      ]
    },
    {
      "cell_type": "markdown",
      "source": [
        "#Bootcamp: Engenheiro de Machine Learning\n",
        "###Módulo 1: Fundamentos de Aprendizado de Máquina\n",
        "#####Otávio Muraca"
      ],
      "metadata": {
        "id": "7mJ7Bhl1BrCe"
      }
    },
    {
      "cell_type": "markdown",
      "source": [
        "Esse dataset contém um\n",
        "conjunto de atributos (dados de sensores) sobre o processo de fabricação de vinhos (tinto e\n",
        "branco). Esses dados são utilizados para classificar, ao final do processo, a qualidade do vinho\n",
        "obtido. Existem informações como o teor alcoólico e nível de acidez."
      ],
      "metadata": {
        "id": "4ghOeXe6FIJs"
      }
    },
    {
      "cell_type": "markdown",
      "source": [
        "##Importando Bibliotecas"
      ],
      "metadata": {
        "id": "CU0LP87TeXm-"
      }
    },
    {
      "cell_type": "code",
      "execution_count": null,
      "metadata": {
        "id": "nbUiAUJAxGc7"
      },
      "outputs": [],
      "source": [
        "#Importando Bibliotecas\n",
        "import pandas as pd\n",
        "import numpy as np\n",
        "import seaborn as sns\n",
        "import matplotlib.pyplot as plt\n",
        "import scipy\n",
        "import pydotplus\n",
        "\n",
        "from scipy.optimize import curve_fit\n",
        "\n",
        "from sklearn import neighbors, datasets, metrics\n",
        "from sklearn.svm import SVC\n",
        "from sklearn.cluster import KMeans\n",
        "from sklearn.model_selection import train_test_split \n",
        "from sklearn.preprocessing import MinMaxScaler, StandardScaler\n",
        "from sklearn.metrics import classification_report, confusion_matrix\n",
        "from sklearn.metrics import precision_score, accuracy_score\n",
        "from sklearn.tree import DecisionTreeClassifier, export_graphviz\n",
        "from sklearn.ensemble import RandomForestClassifier\n",
        "from sklearn.neural_network import MLPClassifier\n",
        "from sklearn.neighbors import KNeighborsClassifier\n",
        "\n",
        "from mlxtend.plotting import plot_confusion_matrix\n",
        "\n",
        "from six import StringIO\n",
        "\n",
        "from IPython.display import Image"
      ]
    },
    {
      "cell_type": "markdown",
      "source": [
        "##Carregando a base de dados"
      ],
      "metadata": {
        "id": "Q1wI0RktfLK2"
      }
    },
    {
      "cell_type": "code",
      "source": [
        "#Importando CSV\n",
        "dados = pd.read_csv('winequality-red.csv', sep=';')"
      ],
      "metadata": {
        "id": "cho6f6F8xJik"
      },
      "execution_count": null,
      "outputs": []
    },
    {
      "cell_type": "markdown",
      "source": [
        "## Analisando o dataset"
      ],
      "metadata": {
        "id": "c_UyiLuaeS6y"
      }
    },
    {
      "cell_type": "code",
      "source": [
        "dados.head()"
      ],
      "metadata": {
        "id": "7GSe40mpCoWh"
      },
      "execution_count": null,
      "outputs": []
    },
    {
      "cell_type": "code",
      "source": [
        "#Tamanhos do dataset\n",
        "print(f'O dataset possui {dados.shape[0]} linhas e {dados.shape[1]} colunas')"
      ],
      "metadata": {
        "id": "CU0Ghy1HCo1X"
      },
      "execution_count": null,
      "outputs": []
    },
    {
      "cell_type": "code",
      "source": [
        "#Tipos das colunas do dataset\n",
        "dados.info()"
      ],
      "metadata": {
        "id": "Bj1-zr7rC0Px"
      },
      "execution_count": null,
      "outputs": []
    },
    {
      "cell_type": "code",
      "source": [
        "#Verificando valores nulos\n",
        "dados.isna().sum()"
      ],
      "metadata": {
        "id": "5OqUxTScGseU"
      },
      "execution_count": null,
      "outputs": []
    },
    {
      "cell_type": "code",
      "source": [
        "#analisando as \"estatísticas do dataset\"\n",
        "dados.describe()"
      ],
      "metadata": {
        "id": "qSArFvAYHKsZ"
      },
      "execution_count": null,
      "outputs": []
    },
    {
      "cell_type": "code",
      "source": [
        "#Mediana\n",
        "np.median(dados['residual sugar'])"
      ],
      "metadata": {
        "id": "wvNa5SIIKwbU"
      },
      "execution_count": null,
      "outputs": []
    },
    {
      "cell_type": "code",
      "source": [
        "#Verificando a CORRELAÇÃO\n",
        "dados.corr()"
      ],
      "metadata": {
        "id": "DORjdsvWMftq"
      },
      "execution_count": null,
      "outputs": []
    },
    {
      "cell_type": "code",
      "source": [
        "#Gerando Gráfico de CORRELAÇÃO\n",
        "fig, ax = plt.subplots(figsize= (20, 20))\n",
        "sns.heatmap(dados.corr(), annot= True, linewidths= 0.5, cmap = 'BuPu')"
      ],
      "metadata": {
        "id": "d7RQHOw4Mfnu"
      },
      "execution_count": null,
      "outputs": []
    },
    {
      "cell_type": "code",
      "source": [
        "#Observando os valores únicos de QUALITY\n",
        "dados['quality'].unique()"
      ],
      "metadata": {
        "id": "WNVKWWamgZ73"
      },
      "execution_count": null,
      "outputs": []
    },
    {
      "cell_type": "code",
      "source": [
        "#Observando a FREQUÊNCIA dos valores únicos de QUALITY\n",
        "dados['quality'].value_counts()"
      ],
      "metadata": {
        "id": "v8b3vuUBg03c"
      },
      "execution_count": null,
      "outputs": []
    },
    {
      "cell_type": "code",
      "source": [
        "#Coeficiente de correlação de Pearson FIXED ACIDITY x pH\n",
        "sns.scatterplot(data = dados, x=\"fixed acidity\", y = \"pH\" )"
      ],
      "metadata": {
        "id": "UjE83M-4inGJ"
      },
      "execution_count": null,
      "outputs": []
    },
    {
      "cell_type": "code",
      "source": [
        "#Coeficiente de correlação de Pearson QUALITY x ALCOHOL\n",
        "sns.scatterplot(data = dados, x=\"quality\", y = \"alcohol\" )"
      ],
      "metadata": {
        "id": "F8zSX5lviYNF"
      },
      "execution_count": null,
      "outputs": []
    },
    {
      "cell_type": "markdown",
      "source": [
        "##Ajustando ESCALAS"
      ],
      "metadata": {
        "id": "yeID27GvgKE0"
      }
    },
    {
      "cell_type": "code",
      "source": [
        "#Verificando as Escalas\n",
        "teste = sns.boxplot(data=dados)"
      ],
      "metadata": {
        "id": "hmW57Lt8DTlt"
      },
      "execution_count": null,
      "outputs": []
    },
    {
      "cell_type": "markdown",
      "source": [
        "\n",
        "É possível observar a diferença na escalada dos dados. Essa diferença pode atrapalhar no desempenho dos logoritmos de Machine Learning. Para reverter essa situação, aplicaremos um método de normalização de dados, **MinMaxScaler**.\n",
        "\n"
      ],
      "metadata": {
        "id": "xQIf7s-TesQ5"
      }
    },
    {
      "cell_type": "code",
      "source": [
        "#Ajustando o método de Escala\n",
        "scaler = MinMaxScaler()\n",
        "\n",
        "#Duplicando o dataset\n",
        "dadosCopy = pd.DataFrame(dados, columns = ['fixed acidity', 'volatile acidity', 'citric acid', 'residual sugar',\n",
        "       'chlorides', 'free sulfur dioxide', 'total sulfur dioxide', 'density',\n",
        "       'pH', 'sulphates', 'alcohol', 'quality'])\n",
        "\n",
        "transformed_dataset = scaler.fit_transform(dadosCopy.drop('quality', axis=1).values)\n",
        "\n",
        "dadosEscalado = pd.DataFrame(data=transformed_dataset, columns = dados.columns.drop('quality'))\n",
        "dadosEscalado = pd.concat([dadosEscalado, dadosCopy['quality']], axis=1)\n",
        "dadosEscalado.head()"
      ],
      "metadata": {
        "id": "BtNTBAPRnlbo"
      },
      "execution_count": null,
      "outputs": []
    },
    {
      "cell_type": "code",
      "source": [
        "teste = sns.boxplot(data=dadosNormalizados)"
      ],
      "metadata": {
        "id": "ckkIIT4Kjhi_"
      },
      "execution_count": null,
      "outputs": []
    },
    {
      "cell_type": "markdown",
      "source": [
        "Após a sua normalização, conseguimos ver melhor sua escala entre 0 e 1. Agora todos os dados possuem a mesma escala, possibilitando assim, um melhor desempenho dos algoritmos de Machine Learning."
      ],
      "metadata": {
        "id": "mflYsbNNlNQO"
      }
    },
    {
      "cell_type": "markdown",
      "source": [
        "##Divisão dos dados TESTE / TREINAMENTO"
      ],
      "metadata": {
        "id": "T4TXaMWkKeXl"
      }
    },
    {
      "cell_type": "code",
      "source": [
        "#Transformando os dados em array\n",
        "x = dadosEscalado.iloc[:,0:-1].values #Selecionando as colunas com as características\n",
        "y = dadosEscalado.iloc[:,11].values #Selecionando a coluna com a qualidade final"
      ],
      "metadata": {
        "id": "2F6qYXh8RVX5"
      },
      "execution_count": null,
      "outputs": []
    },
    {
      "cell_type": "code",
      "source": [
        "#Realiza a divisão dos dados entre TREINAMENTO e TESTE (70/30)\n",
        "x_train, x_test, y_train, y_test = train_test_split(x, y, random_state = 1, test_size = 0.30)"
      ],
      "metadata": {
        "id": "9WZl7hwgTyqw"
      },
      "execution_count": null,
      "outputs": []
    },
    {
      "cell_type": "markdown",
      "source": [
        "##KNN"
      ],
      "metadata": {
        "id": "devjdvoqSI0Q"
      }
    },
    {
      "cell_type": "code",
      "source": [
        "dadosEscalado"
      ],
      "metadata": {
        "id": "h_V4zXOdp2ah"
      },
      "execution_count": null,
      "outputs": []
    },
    {
      "cell_type": "code",
      "source": [
        "dadosEscalado['quality'].unique()"
      ],
      "metadata": {
        "id": "vsGw73uyqzSY"
      },
      "execution_count": null,
      "outputs": []
    },
    {
      "cell_type": "code",
      "source": [
        "#Treina o modelo KNN\n",
        "classifier = KNeighborsClassifier(n_neighbors=5) #5vizinhos\n",
        "classifier.fit(x_train, y_train)\n",
        "\n",
        "#Realiza a previsão\n",
        "y_pred = classifier.predict(x_test)\n",
        "\n",
        "#Realiza a previsão\n",
        "y_pred = classifier.predict(x_test)\n",
        "\n",
        "#Vendo a ACURÁCIA do logorítmo\n",
        "print(classification_report(y_test, y_pred))\n",
        "print(f'A acurácia do algorítmo KNN foi de {round(accuracy_score(y_test, y_pred),2)}% \\n')"
      ],
      "metadata": {
        "id": "nqHndJ0pU4ZO"
      },
      "execution_count": null,
      "outputs": []
    },
    {
      "cell_type": "code",
      "source": [
        "#Realiza o plot da matriz de confusão\n",
        "matriz_confusao = confusion_matrix(y_test,y_pred)\n",
        "\n",
        "fig, ax = plot_confusion_matrix(conf_mat=matriz_confusao)\n",
        "plt.savefig('KNN.png')\n",
        "plt.show()\n"
      ],
      "metadata": {
        "id": "rlEjfGbCZ25j"
      },
      "execution_count": null,
      "outputs": []
    },
    {
      "cell_type": "markdown",
      "source": [
        "##Árvore de Decisão"
      ],
      "metadata": {
        "id": "Ukj3o5GefQQi"
      }
    },
    {
      "cell_type": "code",
      "source": [
        "#Cria o objeto de classificação\n",
        "clf = DecisionTreeClassifier()\n",
        "\n",
        "#realiza o treinamento do classificador \n",
        "clf = clf.fit(x_train, y_train)\n",
        "\n",
        "#Realiza a previsão de classificaçao\n",
        "y_pred = clf.predict(x_test)\n",
        "\n",
        "print(classification_report(y_test, y_pred))\n",
        "print(f'A acurácia do algorítmo KNN foi de {round(accuracy_score(y_test, y_pred),2)}% \\n')\n"
      ],
      "metadata": {
        "id": "vv2KBIeqfTRL"
      },
      "execution_count": null,
      "outputs": []
    },
    {
      "cell_type": "code",
      "source": [
        "#Realiza o plot da Matriz de Confusão\n",
        "matriz_confusao = confusion_matrix(y_test,y_pred)\n",
        "\n",
        "fig, ax = plot_confusion_matrix(conf_mat=matriz_confusao)\n",
        "plt.savefig('ArvodeDecisao.png')\n",
        "plt.show()"
      ],
      "metadata": {
        "id": "tZF99xjFfTM7"
      },
      "execution_count": null,
      "outputs": []
    },
    {
      "cell_type": "markdown",
      "source": [
        "##Algoritmo Floresta Randônica\n"
      ],
      "metadata": {
        "id": "l-7t6cD1mUvx"
      }
    },
    {
      "cell_type": "code",
      "source": [
        "#Cria o objeto de classificação\n",
        "clfr = RandomForestClassifier(max_depth=10, random_state=1)\n",
        "\n",
        "#realiza o treinamento do classificador \n",
        "clfr = clfr.fit(x_train, y_train)\n",
        "\n",
        "#Realiza a previsão de classificaçao\n",
        "y_pred = clfr.predict(x_test)\n",
        "\n",
        "print(classification_report(y_test, y_pred))\n",
        "print(f'A acurácia do algorítmo KNN foi de {round(accuracy_score(y_test, y_pred),2)}% \\n')"
      ],
      "metadata": {
        "id": "D19xbpGsfTu4"
      },
      "execution_count": null,
      "outputs": []
    },
    {
      "cell_type": "code",
      "source": [
        "#Cria o plot da Floresta Randômica\n",
        "\n",
        "dot_data = StringIO()\n",
        "export_graphviz(clf, out_file=dot_data,\n",
        "                filled = True, rounded = True,\n",
        "                special_characters=True,\n",
        "                class_names=['0','1','2','3','4','5'])\n",
        "\n",
        "graph = pydotplus.graph_from_dot_data(dot_data.getvalue())\n",
        "graph.write_png('arvore.png')\n",
        "Image(graph.create_png())"
      ],
      "metadata": {
        "id": "jFK6tQ2Qkgg5"
      },
      "execution_count": null,
      "outputs": []
    },
    {
      "cell_type": "markdown",
      "source": [
        "##SVM"
      ],
      "metadata": {
        "id": "L8mSOaUNnGaI"
      }
    },
    {
      "cell_type": "code",
      "source": [
        "#Cria o objeto SVM\n",
        "clf_svm =SVC(gamma='auto',kernel='rbf')\n",
        "\n",
        "#Realiza a classificação via SVM\n",
        "clf_svm = clf_svm.fit(x_train,y_train)\n",
        "\n",
        "#Realiza a previsão de classificação\n",
        "y_pred = clf_svm.predict(x_test)\n",
        "\n",
        "print(classification_report(y_test, y_pred))\n",
        "print(f'A acurácia do algorítmo KNN foi de {round(accuracy_score(y_test, y_pred),2)}% \\n')"
      ],
      "metadata": {
        "id": "YhdT66BxnPj2"
      },
      "execution_count": null,
      "outputs": []
    },
    {
      "cell_type": "code",
      "source": [
        "#Avalia o modelo\n",
        "\n",
        "#Realiza o plot da MC\n",
        "matriz_confusao = confusion_matrix(y_test,y_pred)\n",
        "\n",
        "from mlxtend.plotting import plot_confusion_matrix\n",
        "\n",
        "fig, ax = plot_confusion_matrix(conf_mat = matriz_confusao)\n",
        "plt.savefig('SVM')\n",
        "plt.show()"
      ],
      "metadata": {
        "id": "xSj2slXvnr1p"
      },
      "execution_count": null,
      "outputs": []
    },
    {
      "cell_type": "markdown",
      "source": [
        "##Redes Neurais"
      ],
      "metadata": {
        "id": "29WR1g2KvHTx"
      }
    },
    {
      "cell_type": "code",
      "source": [
        "#Algoritmo Rede MLP\n",
        "clf = MLPClassifier(alpha=1e-5, hidden_layer_sizes=(5,5), random_state=1)\n",
        "\n",
        "clf = clf.fit(x_train, y_train)\n",
        "\n",
        "y_pred = clf.predict(x_test)\n",
        "\n",
        "\n",
        "print(classification_report(y_test, y_pred))\n",
        "print(f'A acurácia do algorítmo KNN foi de {round(accuracy_score(y_test, y_pred),2)}% \\n')\n"
      ],
      "metadata": {
        "id": "wM5vJWmlE5ze"
      },
      "execution_count": null,
      "outputs": []
    },
    {
      "cell_type": "code",
      "source": [],
      "metadata": {
        "id": "O-Ov4X59vXij"
      },
      "execution_count": null,
      "outputs": []
    },
    {
      "cell_type": "markdown",
      "source": [
        "##Sistema Binário"
      ],
      "metadata": {
        "id": "FEbUP-VvvYCN"
      }
    },
    {
      "cell_type": "markdown",
      "source": [
        "Foi solicitado testar os mesmos algorítmos no mesmo dataset, porém com os valores de saída em formato BINÁRIO (0 e 1)."
      ],
      "metadata": {
        "id": "FPw77Udevfwk"
      }
    },
    {
      "cell_type": "code",
      "source": [
        "dadosBinarios = dadosEscalado"
      ],
      "metadata": {
        "id": "rVDezzdyzL9g"
      },
      "execution_count": null,
      "outputs": []
    },
    {
      "cell_type": "code",
      "source": [
        "dadosBinarios"
      ],
      "metadata": {
        "id": "lMOztCcwHp6r"
      },
      "execution_count": null,
      "outputs": []
    },
    {
      "cell_type": "code",
      "source": [
        "#transformando os valores de saída da coluna 'quality' em 0 e 1\n",
        "def binarios(dado):\n",
        "  if (dado == 6) or (dado == 7) or (dado == 8):\n",
        "    return 1\n",
        "  elif (dado == 3) or (dado == 4) or (dado == 5):\n",
        "    return 0"
      ],
      "metadata": {
        "id": "_u0B8aZYHq6V"
      },
      "execution_count": null,
      "outputs": []
    },
    {
      "cell_type": "code",
      "source": [
        "dadosBinarios['quality'] = dadosBinarios['quality'].apply(binarios)"
      ],
      "metadata": {
        "id": "4Zhi6RQ1IMaj"
      },
      "execution_count": null,
      "outputs": []
    },
    {
      "cell_type": "code",
      "source": [
        "dadosBinarios"
      ],
      "metadata": {
        "id": "bjsxkqB0IVET"
      },
      "execution_count": null,
      "outputs": []
    },
    {
      "cell_type": "code",
      "source": [
        "#Transformando os dados em array\n",
        "x = dadosBinarios.iloc[:,0:-1].values #colunas características\n",
        "y = dadosBinarios.iloc[:,11].values #qualidades\n",
        "\n",
        "x_train, x_test, y_train, y_test = train_test_split(x, y, random_state = 1, test_size = 0.30)\n",
        "\n",
        "scaler = MinMaxScaler().fit(x_train)\n",
        "\n",
        "x_train = scaler.transform(x_train)\n",
        "x_test = scaler.transform(x_test)\n",
        "\n",
        "\n",
        "dadosMinMax = MinMaxScaler().fit(dadosBinarios)\n",
        "dadosMinMaxData = dadosMinMax.transform(dadosBinarios)\n",
        "\n",
        "\n",
        "\n",
        "modelos = [\"KNeighborsClassifier(n_neighbors=5)\",\n",
        "  \"DecisionTreeClassifier()\",\n",
        "  \"RandomForestClassifier(max_depth=10, random_state=1)\",\n",
        "  \"SVC(gamma='auto',kernel='rbf')\",\n",
        "  \"MLPClassifier(alpha=1e-5, hidden_layer_sizes=(5,5), random_state=1)\"]\n",
        "\n",
        "for i in modelos:\n",
        "  modelo = i.replace('\"','')\n",
        "  x = eval(modelo)\n",
        "  clf = x.fit(x_train, y_train)\n",
        "  y_pred = clf.predict(x_test)\n",
        "  acuracia = accuracy_score(y_test, y_pred)\n",
        "  \n",
        "  print(f'{i} = {round(acuracia,2)}')"
      ],
      "metadata": {
        "id": "Owq5zsdKIY3p"
      },
      "execution_count": null,
      "outputs": []
    },
    {
      "cell_type": "code",
      "source": [],
      "metadata": {
        "id": "aknmq19vI-ZQ"
      },
      "execution_count": null,
      "outputs": []
    }
  ]
}